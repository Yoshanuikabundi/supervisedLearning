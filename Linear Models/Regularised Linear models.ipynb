{
 "cells": [
  {
   "cell_type": "code",
   "execution_count": 37,
   "metadata": {},
   "outputs": [],
   "source": [
    "import numpy as np\n",
    "import mglearn\n",
    "from sklearn.linear_model import LinearRegression\n",
    "from sklearn.model_selection import train_test_split\n",
    "import matplotlib.pyplot as plt\n",
    "%matplotlib inline "
   ]
  },
  {
   "cell_type": "code",
   "execution_count": 38,
   "metadata": {},
   "outputs": [
    {
     "name": "stdout",
     "output_type": "stream",
     "text": [
      "(506, 104)\n",
      "[[  0.00000000e+00   1.80000000e-01   6.78152493e-02   0.00000000e+00\n",
      "    3.14814815e-01   5.77505269e-01   6.41606591e-01   2.69203139e-01\n",
      "    0.00000000e+00   2.08015267e-01   2.87234043e-01   1.00000000e+00\n",
      "    8.96799117e-02   0.00000000e+00   0.00000000e+00   0.00000000e+00\n",
      "    0.00000000e+00   0.00000000e+00   0.00000000e+00   0.00000000e+00\n",
      "    0.00000000e+00   0.00000000e+00   0.00000000e+00   0.00000000e+00\n",
      "    0.00000000e+00   0.00000000e+00   3.24000000e-02   1.22067449e-02\n",
      "    0.00000000e+00   5.66666667e-02   1.03950948e-01   1.15489186e-01\n",
      "    4.84565650e-02   0.00000000e+00   3.74427481e-02   5.17021277e-02\n",
      "    1.80000000e-01   1.61423841e-02   4.59890803e-03   0.00000000e+00\n",
      "    2.13492451e-02   3.91636638e-02   4.35107109e-02   1.82560780e-02\n",
      "    0.00000000e+00   1.41066072e-02   1.94788482e-02   6.78152493e-02\n",
      "    6.08166557e-03   0.00000000e+00   0.00000000e+00   0.00000000e+00\n",
      "    0.00000000e+00   0.00000000e+00   0.00000000e+00   0.00000000e+00\n",
      "    0.00000000e+00   0.00000000e+00   0.00000000e+00   9.91083676e-02\n",
      "    1.81807214e-01   2.01987260e-01   8.47491364e-02   0.00000000e+00\n",
      "    6.54862878e-02   9.04255319e-02   3.14814815e-01   2.82325648e-02\n",
      "    3.33512336e-01   3.70531187e-01   1.55466231e-01   0.00000000e+00\n",
      "    1.20129913e-01   1.65879173e-01   5.77505269e-01   5.17906215e-02\n",
      "    4.11659018e-01   1.72722508e-01   0.00000000e+00   1.33463966e-01\n",
      "    1.84291255e-01   6.41606591e-01   5.75392224e-02   7.24703301e-02\n",
      "    0.00000000e+00   5.59983629e-02   7.73243059e-02   2.69203139e-01\n",
      "    2.41421137e-02   0.00000000e+00   0.00000000e+00   0.00000000e+00\n",
      "    0.00000000e+00   0.00000000e+00   4.32703514e-02   5.97490661e-02\n",
      "    2.08015267e-01   1.86547908e-02   8.25033952e-02   2.87234043e-01\n",
      "    2.57591236e-02   1.00000000e+00   8.96799117e-02   8.04248656e-03]\n",
      " [  2.35922539e-04   0.00000000e+00   2.42302053e-01   0.00000000e+00\n",
      "    1.72839506e-01   5.47997701e-01   7.82698249e-01   3.48961980e-01\n",
      "    4.34782609e-02   1.04961832e-01   5.53191489e-01   1.00000000e+00\n",
      "    2.04470199e-01   5.56594445e-08   0.00000000e+00   5.71645155e-05\n",
      "    0.00000000e+00   4.07767352e-05   1.29285009e-04   1.84656158e-04\n",
      "    8.23279964e-05   1.02575017e-05   2.47628619e-05   1.30510341e-04\n",
      "    2.35922539e-04   4.82391285e-05   0.00000000e+00   0.00000000e+00\n",
      "    0.00000000e+00   0.00000000e+00   0.00000000e+00   0.00000000e+00\n",
      "    0.00000000e+00   0.00000000e+00   0.00000000e+00   0.00000000e+00\n",
      "    0.00000000e+00   0.00000000e+00   5.87102848e-02   0.00000000e+00\n",
      "    4.18793671e-02   1.32780968e-01   1.89649392e-01   8.45542041e-02\n",
      "    1.05348719e-02   2.54324674e-02   1.34039433e-01   2.42302053e-01\n",
      "    4.95435489e-02   0.00000000e+00   0.00000000e+00   0.00000000e+00\n",
      "    0.00000000e+00   0.00000000e+00   0.00000000e+00   0.00000000e+00\n",
      "    0.00000000e+00   0.00000000e+00   0.00000000e+00   2.98734949e-02\n",
      "    9.47156520e-02   1.35281179e-01   6.03144163e-02   7.51476114e-03\n",
      "    1.81415512e-02   9.56133438e-02   1.72839506e-01   3.53405282e-02\n",
      "    3.00301480e-01   4.28916841e-01   1.91230363e-01   2.38259870e-02\n",
      "    5.75188426e-02   3.03147664e-01   5.47997701e-01   1.12049199e-01\n",
      "    6.12616549e-01   2.73131931e-01   3.40303587e-02   8.21534422e-02\n",
      "    4.32982010e-01   7.82698249e-01   1.60038467e-01   1.21774464e-01\n",
      "    1.51722600e-02   3.66276888e-02   1.93042798e-01   3.48961980e-01\n",
      "    7.13523254e-02   1.89035917e-03   4.56355792e-03   2.40518039e-02\n",
      "    4.34782609e-02   8.89000864e-03   1.10169862e-02   5.80639922e-02\n",
      "    1.04961832e-01   2.14615667e-02   3.06020824e-01   5.53191489e-01\n",
      "    1.13111174e-01   1.00000000e+00   2.04470199e-01   4.18080621e-02]\n",
      " [  2.35697744e-04   0.00000000e+00   2.42302053e-01   0.00000000e+00\n",
      "    1.72839506e-01   6.94385898e-01   5.99382080e-01   3.48961980e-01\n",
      "    4.34782609e-02   1.04961832e-01   5.53191489e-01   9.89737254e-01\n",
      "    6.34657837e-02   5.55534265e-08   0.00000000e+00   5.71100472e-05\n",
      "    0.00000000e+00   4.07378817e-05   1.63665190e-04   1.41273004e-04\n",
      "    8.22495515e-05   1.02477280e-05   2.47392670e-05   1.30385986e-04\n",
      "    2.33278838e-04   1.49587420e-05   0.00000000e+00   0.00000000e+00\n",
      "    0.00000000e+00   0.00000000e+00   0.00000000e+00   0.00000000e+00\n",
      "    0.00000000e+00   0.00000000e+00   0.00000000e+00   0.00000000e+00\n",
      "    0.00000000e+00   0.00000000e+00   5.87102848e-02   0.00000000e+00\n",
      "    4.18793671e-02   1.68251128e-01   1.45231508e-01   8.45542041e-02\n",
      "    1.05348719e-02   2.54324674e-02   1.34039433e-01   2.39815368e-01\n",
      "    1.53778897e-02   0.00000000e+00   0.00000000e+00   0.00000000e+00\n",
      "    0.00000000e+00   0.00000000e+00   0.00000000e+00   0.00000000e+00\n",
      "    0.00000000e+00   0.00000000e+00   0.00000000e+00   2.98734949e-02\n",
      "    1.20017316e-01   1.03596903e-01   6.03144163e-02   7.51476114e-03\n",
      "    1.81415512e-02   9.56133438e-02   1.71065698e-01   1.09693947e-02\n",
      "    4.82171775e-01   4.16202464e-01   2.42314278e-01   3.01906912e-02\n",
      "    7.28840160e-02   3.84128369e-01   6.87259591e-01   4.40697452e-02\n",
      "    3.59258878e-01   2.09161558e-01   2.60600904e-02   6.29122413e-02\n",
      "    3.31573066e-01   5.93230774e-01   3.80402534e-02   1.21774464e-01\n",
      "    1.51722600e-02   3.66276888e-02   1.93042798e-01   3.45380672e-01\n",
      "    2.21471455e-02   1.89035917e-03   4.56355792e-03   2.40518039e-02\n",
      "    4.30320545e-02   2.75938190e-03   1.10169862e-02   5.80639922e-02\n",
      "    1.03884635e-01   6.66148493e-03   3.06020824e-01   5.47514225e-01\n",
      "    3.51087314e-02   9.79579831e-01   6.28144504e-02   4.02790570e-03]\n",
      " [  2.92795719e-04   0.00000000e+00   6.30498534e-02   0.00000000e+00\n",
      "    1.50205761e-01   6.58555279e-01   4.41812564e-01   4.48544590e-01\n",
      "    8.69565217e-02   6.67938931e-02   6.48936170e-01   9.94276060e-01\n",
      "    3.33885210e-02   8.57293332e-08   0.00000000e+00   1.84607272e-05\n",
      "    0.00000000e+00   4.39796039e-05   1.92822166e-04   1.29360828e-04\n",
      "    1.31331936e-04   2.54604973e-05   1.95569660e-05   1.90005733e-04\n",
      "    2.91119774e-04   9.77601601e-06   0.00000000e+00   0.00000000e+00\n",
      "    0.00000000e+00   0.00000000e+00   0.00000000e+00   0.00000000e+00\n",
      "    0.00000000e+00   0.00000000e+00   0.00000000e+00   0.00000000e+00\n",
      "    0.00000000e+00   0.00000000e+00   3.97528401e-03   0.00000000e+00\n",
      "    9.47045123e-03   4.15218138e-02   2.78562174e-02   2.82806706e-02\n",
      "    5.48259595e-03   4.21134517e-03   4.09153304e-02   6.26889598e-02\n",
      "    2.10514135e-03   0.00000000e+00   0.00000000e+00   0.00000000e+00\n",
      "    0.00000000e+00   0.00000000e+00   0.00000000e+00   0.00000000e+00\n",
      "    0.00000000e+00   0.00000000e+00   0.00000000e+00   2.25617707e-02\n",
      "    9.89187970e-02   6.63627926e-02   6.73739816e-02   1.30613705e-02\n",
      "    1.00328276e-02   9.74739515e-02   1.49345993e-01   5.01514821e-03\n",
      "    4.33695055e-01   2.90957996e-01   2.95391407e-01   5.72656764e-02\n",
      "    4.39874709e-02   4.27360340e-01   6.54785748e-01   2.19881867e-02\n",
      "    1.95198342e-01   1.98172635e-01   3.84184839e-02   2.95103812e-02\n",
      "    2.86708153e-01   4.39283656e-01   1.47514681e-02   2.01192249e-01\n",
      "    3.90038774e-02   2.99600394e-02   2.91076808e-01   4.45977148e-01\n",
      "    1.49762404e-02   7.56143667e-03   5.80816462e-03   5.64292322e-02\n",
      "    8.64587879e-02   2.90334965e-03   4.46142416e-03   4.33449732e-02\n",
      "    6.64115689e-02   2.23014930e-03   4.21118153e-01   6.45221699e-01\n",
      "    2.16670189e-02   9.88584884e-01   3.31974071e-02   1.11479333e-03]\n",
      " [  7.05070075e-04   0.00000000e+00   6.30498534e-02   0.00000000e+00\n",
      "    1.50205761e-01   6.87104809e-01   5.28321318e-01   4.48544590e-01\n",
      "    8.69565217e-02   6.67938931e-02   6.48936170e-01   1.00000000e+00\n",
      "    9.93377483e-02   4.97123811e-07   0.00000000e+00   4.44545649e-05\n",
      "    0.00000000e+00   1.05905587e-04   4.84457040e-04   3.72503552e-04\n",
      "    3.16255368e-04   6.13104413e-05   4.70943753e-05   4.57545474e-04\n",
      "    7.05070075e-04   7.00400737e-05   0.00000000e+00   0.00000000e+00\n",
      "    0.00000000e+00   0.00000000e+00   0.00000000e+00   0.00000000e+00\n",
      "    0.00000000e+00   0.00000000e+00   0.00000000e+00   0.00000000e+00\n",
      "    0.00000000e+00   0.00000000e+00   3.97528401e-03   0.00000000e+00\n",
      "    9.47045123e-03   4.33218575e-02   3.33105816e-02   2.82806706e-02\n",
      "    5.48259595e-03   4.21134517e-03   4.09153304e-02   6.30498534e-02\n",
      "    6.26323047e-03   0.00000000e+00   0.00000000e+00   0.00000000e+00\n",
      "    0.00000000e+00   0.00000000e+00   0.00000000e+00   0.00000000e+00\n",
      "    0.00000000e+00   0.00000000e+00   0.00000000e+00   2.25617707e-02\n",
      "    1.03207101e-01   7.93569058e-02   6.73739816e-02   1.30613705e-02\n",
      "    1.00328276e-02   9.74739515e-02   1.50205761e-01   1.49211021e-02\n",
      "    4.72113019e-01   3.63012119e-01   3.08197145e-01   5.97482443e-02\n",
      "    4.58944052e-02   4.45887164e-01   6.87104809e-01   6.82554446e-02\n",
      "    2.79123415e-01   2.36975669e-01   4.59409842e-02   3.52886377e-02\n",
      "    3.42846813e-01   5.28321318e-01   5.24822502e-02   2.01192249e-01\n",
      "    3.90038774e-02   2.99600394e-02   2.91076808e-01   4.48544590e-01\n",
      "    4.45574096e-02   7.56143667e-03   5.80816462e-03   5.64292322e-02\n",
      "    8.69565217e-02   8.63806507e-03   4.46142416e-03   4.33449732e-02\n",
      "    6.67938931e-02   6.63515495e-03   4.21118153e-01   6.48936170e-01\n",
      "    6.44638580e-02   1.00000000e+00   9.93377483e-02   9.86798825e-03]]\n"
     ]
    }
   ],
   "source": [
    "X, y = mglearn.datasets.load_extended_boston()\n",
    "print(X.shape)\n",
    "print(X[:5])\n",
    "X_train, X_test, y_train, y_test = train_test_split(X, y, random_state=0)\n",
    "lr = LinearRegression().fit(X_train, y_train)"
   ]
  },
  {
   "cell_type": "code",
   "execution_count": 39,
   "metadata": {},
   "outputs": [
    {
     "name": "stdout",
     "output_type": "stream",
     "text": [
      "training set score: 0.952353\n",
      "test set score: 0.605775\n"
     ]
    }
   ],
   "source": [
    "print(\"training set score: %f\" % lr.score(X_train, y_train))\n",
    "print(\"test set score: %f\" % lr.score(X_test, y_test))"
   ]
  },
  {
   "cell_type": "markdown",
   "metadata": {},
   "source": [
    "his is a clear sign of overfitting, there are many approaches to overcome overfitting and key idea behind the idea of overfitting is to simplify the model and therefore we should try to find a model that allows us to control complexity. \n",
    "\n",
    "###### Regularization\n",
    "It is an approach where an additional parameter is added to the cost function to “punish” the loss function for high values of the coefficients."
   ]
  },
  {
   "cell_type": "markdown",
   "metadata": {},
   "source": [
    "###### Ridge Regression\n",
    "Ridge regression is also a linear model for regression devised as an extension for Linear Regression, so the formula it uses to make predictions is still formula as for Linear Regression. In Ridge regression,the coefficients w are chosen not only so that they predict well on the training data, but there is an additional constraint. We also want the magnitude of coefficients to be as small as possible; in other words, all entries of w should be close to 0. "
   ]
  },
  {
   "cell_type": "markdown",
   "metadata": {},
   "source": [
    "$$ S(w, b) = \\sum_{i=1}^n|Y_i - \\widehat{Y_i}|^2 + \\lambda \\sum_{i=1}^m|w_i|^2 $$"
   ]
  },
  {
   "cell_type": "markdown",
   "metadata": {},
   "source": [
    "The λ parameter is a scalar that should be learned as well, using a method called cross validation. A super important fact we need to notice about ridge regression is that it enforces the coefficients to be lower, but it does not enforce them to be zero. That is, it will not get rid of irrelevant features but rather minimize their impact on the trained model. Mathematically, Ridge penalizes the l2 norm of the coefficients, or the Euclidean length of w"
   ]
  },
  {
   "cell_type": "code",
   "execution_count": 40,
   "metadata": {
    "collapsed": true
   },
   "outputs": [],
   "source": [
    "from sklearn.linear_model import Ridge"
   ]
  },
  {
   "cell_type": "code",
   "execution_count": 41,
   "metadata": {},
   "outputs": [
    {
     "name": "stdout",
     "output_type": "stream",
     "text": [
      "training set score: 0.886058\n",
      "test set score: 0.752714\n"
     ]
    }
   ],
   "source": [
    "ridge = Ridge().fit(X_train, y_train)\n",
    "print(\"training set score: %f\" % ridge.score(X_train, y_train))\n",
    "print(\"test set score: %f\" % ridge.score(X_test, y_test))"
   ]
  },
  {
   "cell_type": "markdown",
   "metadata": {},
   "source": [
    "Ridge is a more restricted model, so we are less likely to overfit. A less complex model means worse performance on the training set, but better generalization. The Ridge model makes a trade-off between the simplicity of the model (near zero\n",
    "coefficients) and its performance on the training set. Now this importance can be specified by the user using the **lambda** parameter. But remember that increasing values of **lambda** forces coefficients to move towards zero, which decreases training set performance. "
   ]
  },
  {
   "cell_type": "code",
   "execution_count": 42,
   "metadata": {},
   "outputs": [
    {
     "name": "stdout",
     "output_type": "stream",
     "text": [
      "training set score: 0.788346\n",
      "test set score: 0.635897\n"
     ]
    }
   ],
   "source": [
    "ridge10 = Ridge(alpha=10).fit(X_train, y_train)\n",
    "print(\"training set score: %f\" % ridge10.score(X_train, y_train))\n",
    "print(\"test set score: %f\" % ridge10.score(X_test, y_test))"
   ]
  },
  {
   "cell_type": "markdown",
   "metadata": {},
   "source": [
    "For very small values of **lambda**, coefficients are barely restricted at all, and we end up with a model that resembles LinearRegression"
   ]
  },
  {
   "cell_type": "code",
   "execution_count": 56,
   "metadata": {},
   "outputs": [
    {
     "name": "stdout",
     "output_type": "stream",
     "text": [
      "training set score: 0.928578\n",
      "test set score: 0.771793\n"
     ]
    }
   ],
   "source": [
    "ridge01 = Ridge(alpha=0.1).fit(X_train, y_train)\n",
    "print(\"training set score: %f\" % ridge01.score(X_train, y_train))\n",
    "print(\"test set score: %f\" % ridge01.score(X_test, y_test))"
   ]
  },
  {
   "cell_type": "markdown",
   "metadata": {},
   "source": [
    "We can also get a more qualitative insight into how the lambda parameter changes the model by inspecting the coefficients models with different values of lambda . A higher lambda means a more restricted model, so we expect that the entries of coefficients have smaller magnitude for a high value of lambda than for a low value of lambda."
   ]
  },
  {
   "cell_type": "code",
   "execution_count": 50,
   "metadata": {},
   "outputs": [
    {
     "data": {
      "text/plain": [
       "<matplotlib.legend.Legend at 0x7f5a7c309c88>"
      ]
     },
     "execution_count": 50,
     "metadata": {},
     "output_type": "execute_result"
    },
    {
     "data": {
      "image/png": "[encoded data removed]",
      "text/plain": [
       "<matplotlib.figure.Figure at 0x7f5a77d05438>"
      ]
     },
     "metadata": {},
     "output_type": "display_data"
    }
   ],
   "source": [
    "plt.title(\"ridge_coefficients\")\n",
    "plt.xlabel(\"coeff of each feature\")\n",
    "plt.ylabel(\"magnitude\")\n",
    "plt.plot(ridge.coef_, 'o', label=\"Ridge lambda=1\")\n",
    "plt.plot(ridge10.coef_, 'o', label=\"Ridge lambda=10\")\n",
    "plt.plot(ridge01.coef_, 'o', label=\"Ridge lambda=0.1\")\n",
    "plt.plot(lr.coef_, 'o', label=\"LinearRegression\")\n",
    "plt.ylim(-25, 25)\n",
    "plt.legend()"
   ]
  },
  {
   "cell_type": "markdown",
   "metadata": {},
   "source": [
    "The main take-away here is that for lambda=10 (as shown by the orange dots), the coefficients are mostly between around -3 and 3. The coefficients for the ridge model with lambda=1 (as shown by the blue dots), are somewhat larger. The red dots have larger magnitude still, and many of the teal dots, corresponding to linear regression without any regularization (which would be lambda=0) are so large they are even outside of the chart"
   ]
  },
  {
   "cell_type": "markdown",
   "metadata": {},
   "source": [
    "###### Lasso Regression\n",
    "An alternative to Ridge for regularizing linear regression is the Lasso. The lasso also restricts coefficients to be close to zero, similarly to Ridge regression, but in a slightly different way. Lasso penalizes the absolute values of the coefficients in other words the L1 norm of the coefficient vector.\n",
    "\n",
    "As a consequence some coefficients are exactly zero due to which some features are ignored completely.  This can\n",
    "be seen as a form of automatic feature selection. Having some coefficients be exactly zero often makes a model easier to interpret, and can reveal the most important features of your model."
   ]
  },
  {
   "cell_type": "code",
   "execution_count": 51,
   "metadata": {},
   "outputs": [
    {
     "name": "stdout",
     "output_type": "stream",
     "text": [
      "training set score: 0.293238\n",
      "test set score: 0.209375\n",
      "number of features used: 4\n"
     ]
    }
   ],
   "source": [
    "from sklearn.linear_model import Lasso\n",
    "lasso = Lasso().fit(X_train, y_train)\n",
    "print(\"training set score: %f\" % lasso.score(X_train, y_train))\n",
    "print(\"test set score: %f\" % lasso.score(X_test, y_test))\n",
    "print(\"number of features used: %d\" % np.sum(lasso.coef_ != 0))"
   ]
  },
  {
   "cell_type": "markdown",
   "metadata": {},
   "source": [
    "This shows that our model has been underfitting the data. As we can see that it has used only 4 features out of 104."
   ]
  },
  {
   "cell_type": "markdown",
   "metadata": {},
   "source": [
    "In Lasso also we have a regularization parameter **lambda** that controls how strongly coefficients are pushed towards zero. Above, we used the default of lambda=1.0 . To diminish underfitting, we can decrease **lambda**"
   ]
  },
  {
   "cell_type": "markdown",
   "metadata": {},
   "source": [
    "$$S(w, b) = \\sum_{i=1}^n|Y_i - \\widehat{Y_i}|^2 + \\lambda \\sum_{i=1}^m|w_i|$$"
   ]
  },
  {
   "cell_type": "code",
   "execution_count": 52,
   "metadata": {},
   "outputs": [
    {
     "name": "stdout",
     "output_type": "stream",
     "text": [
      "training set score: 0.896408\n",
      "test set score: 0.767806\n",
      "number of features used: 32\n"
     ]
    },
    {
     "name": "stderr",
     "output_type": "stream",
     "text": [
      "/home/rajesh/anaconda3/lib/python3.6/site-packages/sklearn/linear_model/coordinate_descent.py:491: ConvergenceWarning: Objective did not converge. You might want to increase the number of iterations. Fitting data with very small alpha may cause precision problems.\n",
      "  ConvergenceWarning)\n"
     ]
    }
   ],
   "source": [
    "lasso001 = Lasso(alpha=0.01).fit(X_train, y_train)\n",
    "print(\"training set score: %f\" % lasso001.score(X_train, y_train))\n",
    "print(\"test set score: %f\" % lasso001.score(X_test, y_test))\n",
    "print(\"number of features used: %d\" % np.sum(lasso001.coef_ != 0))"
   ]
  },
  {
   "cell_type": "markdown",
   "metadata": {},
   "source": [
    "A lower regularization paramter allowed us to fit a more complex model, which worked better on the training and the test data. The performance is slightly better than using Ridge, and we are using only 32 of the 104 features. This makes this model potentially easier to understand. But If we set lambda too low, we again remove the effect of regularization and end up with a result similar to LinearRegression."
   ]
  },
  {
   "cell_type": "code",
   "execution_count": 53,
   "metadata": {},
   "outputs": [
    {
     "name": "stdout",
     "output_type": "stream",
     "text": [
      "training set score: 0.942433\n",
      "test set score: 0.695635\n",
      "number of features used: 100\n"
     ]
    },
    {
     "name": "stderr",
     "output_type": "stream",
     "text": [
      "/home/rajesh/anaconda3/lib/python3.6/site-packages/sklearn/linear_model/coordinate_descent.py:491: ConvergenceWarning: Objective did not converge. You might want to increase the number of iterations. Fitting data with very small alpha may cause precision problems.\n",
      "  ConvergenceWarning)\n"
     ]
    }
   ],
   "source": [
    "lasso00001 = Lasso(alpha=0.0001).fit(X_train, y_train)\n",
    "print(\"training set score: %f\" % lasso00001.score(X_train, y_train))\n",
    "print(\"test set score: %f\" % lasso00001.score(X_test, y_test))\n",
    "print(\"number of features used: %d\" % np.sum(lasso00001.coef_ != 0))"
   ]
  },
  {
   "cell_type": "code",
   "execution_count": 54,
   "metadata": {},
   "outputs": [
    {
     "data": {
      "text/plain": [
       "<matplotlib.legend.Legend at 0x7f5a7c299ef0>"
      ]
     },
     "execution_count": 54,
     "metadata": {},
     "output_type": "execute_result"
    },
    {
     "data": {
      "image/png": "[encoded data removed]",
      "text/plain": [
       "<matplotlib.figure.Figure at 0x7f5a7c340b00>"
      ]
     },
     "metadata": {},
     "output_type": "display_data"
    }
   ],
   "source": [
    "plt.xlabel(\"coeff of each feature\")\n",
    "plt.ylabel(\"magnitude\")\n",
    "plt.plot(lasso.coef_, 'o', label=\"Lasso lambda=1\")\n",
    "plt.plot(lasso001.coef_, 'o', label=\"Lasso lambda=0.01\")\n",
    "plt.plot(lasso00001.coef_, 'o', label=\"Lasso lambda=0.0001\")\n",
    "plt.plot(ridge01.coef_, 'o', label=\"Ridge lambda=0.1\")\n",
    "plt.ylim(-25, 25)\n",
    "plt.legend()"
   ]
  },
  {
   "cell_type": "markdown",
   "metadata": {},
   "source": [
    "For lambda=1, with coefficients shown as blue dots, we not only see that most of the coefficients are zero (which we already knew), but that the remaining coefficients are also small in magnitude. Decreasing lambda to 0.01 we obtain the solution shown as the orange dots, which causes most features be exactly zero. Using lambda=0.00001, we get a model that is quite unregularized, with most coefficients nonzero and of large magnitude. For comparison, the best Ridge solution is shown in teal. The ridge model with lambda=0.1 has similar predictive performance as the lasso model with lambda=0.01, but using Ridge, all coefficients are non-zero."
   ]
  },
  {
   "cell_type": "markdown",
   "metadata": {},
   "source": [
    "Based on the level of simplicity and number of features intended to build the algorithm, one has to choose among Ridge and Lasso"
   ]
  },
  {
   "cell_type": "code",
   "execution_count": null,
   "metadata": {
    "collapsed": true
   },
   "outputs": [],
   "source": []
  }
 ],
 "metadata": {
  "kernelspec": {
   "display_name": "Python 3",
   "language": "python",
   "name": "python3"
  },
  "language_info": {
   "codemirror_mode": {
    "name": "ipython",
    "version": 3
   },
   "file_extension": ".py",
   "mimetype": "text/x-python",
   "name": "python",
   "nbconvert_exporter": "python",
   "pygments_lexer": "ipython3",
   "version": "3.6.3"
  }
 },
 "nbformat": 4,
 "nbformat_minor": 2
}
